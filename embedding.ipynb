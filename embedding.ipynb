{
 "cells": [
  {
   "cell_type": "code",
   "execution_count": 37,
   "id": "e901eebd",
   "metadata": {},
   "outputs": [],
   "source": [
    "# des librairies\n",
    "import numpy\n",
    "import pandas as pd\n",
    "import openai\n",
    "import tiktoken"
   ]
  },
  {
   "cell_type": "code",
   "execution_count": 38,
   "id": "ba30276d",
   "metadata": {},
   "outputs": [
    {
     "data": {
      "text/html": [
       "<div>\n",
       "<style scoped>\n",
       "    .dataframe tbody tr th:only-of-type {\n",
       "        vertical-align: middle;\n",
       "    }\n",
       "\n",
       "    .dataframe tbody tr th {\n",
       "        vertical-align: top;\n",
       "    }\n",
       "\n",
       "    .dataframe thead th {\n",
       "        text-align: right;\n",
       "    }\n",
       "</style>\n",
       "<table border=\"1\" class=\"dataframe\">\n",
       "  <thead>\n",
       "    <tr style=\"text-align: right;\">\n",
       "      <th></th>\n",
       "      <th>id</th>\n",
       "      <th>keyword</th>\n",
       "      <th>location</th>\n",
       "      <th>text</th>\n",
       "      <th>target</th>\n",
       "    </tr>\n",
       "  </thead>\n",
       "  <tbody>\n",
       "    <tr>\n",
       "      <th>0</th>\n",
       "      <td>1</td>\n",
       "      <td>NaN</td>\n",
       "      <td>NaN</td>\n",
       "      <td>Our Deeds are the Reason of this #earthquake M...</td>\n",
       "      <td>1</td>\n",
       "    </tr>\n",
       "    <tr>\n",
       "      <th>1</th>\n",
       "      <td>4</td>\n",
       "      <td>NaN</td>\n",
       "      <td>NaN</td>\n",
       "      <td>Forest fire near La Ronge Sask. Canada</td>\n",
       "      <td>1</td>\n",
       "    </tr>\n",
       "    <tr>\n",
       "      <th>2</th>\n",
       "      <td>5</td>\n",
       "      <td>NaN</td>\n",
       "      <td>NaN</td>\n",
       "      <td>All residents asked to 'shelter in place' are ...</td>\n",
       "      <td>1</td>\n",
       "    </tr>\n",
       "    <tr>\n",
       "      <th>3</th>\n",
       "      <td>6</td>\n",
       "      <td>NaN</td>\n",
       "      <td>NaN</td>\n",
       "      <td>13,000 people receive #wildfires evacuation or...</td>\n",
       "      <td>1</td>\n",
       "    </tr>\n",
       "    <tr>\n",
       "      <th>4</th>\n",
       "      <td>7</td>\n",
       "      <td>NaN</td>\n",
       "      <td>NaN</td>\n",
       "      <td>Just got sent this photo from Ruby #Alaska as ...</td>\n",
       "      <td>1</td>\n",
       "    </tr>\n",
       "  </tbody>\n",
       "</table>\n",
       "</div>"
      ],
      "text/plain": [
       "   id keyword location                                               text  \\\n",
       "0   1     NaN      NaN  Our Deeds are the Reason of this #earthquake M...   \n",
       "1   4     NaN      NaN             Forest fire near La Ronge Sask. Canada   \n",
       "2   5     NaN      NaN  All residents asked to 'shelter in place' are ...   \n",
       "3   6     NaN      NaN  13,000 people receive #wildfires evacuation or...   \n",
       "4   7     NaN      NaN  Just got sent this photo from Ruby #Alaska as ...   \n",
       "\n",
       "   target  \n",
       "0       1  \n",
       "1       1  \n",
       "2       1  \n",
       "3       1  \n",
       "4       1  "
      ]
     },
     "execution_count": 38,
     "metadata": {},
     "output_type": "execute_result"
    }
   ],
   "source": [
    "# importation des donnes\n",
    "#data source https://www.kaggle.com/competitions/nlp-getting-started\n",
    "data=pd.read_csv('train (1).csv')\n",
    "data.head()"
   ]
  },
  {
   "cell_type": "code",
   "execution_count": 39,
   "id": "594c0cc2",
   "metadata": {},
   "outputs": [],
   "source": [
    "#le nombre de tokens encodés.\n",
    "def coun_token(text,model_name=\"cl100k_base\"):\n",
    "    encoding=tiktoken.get_encoding(model_name)\n",
    "    return len(encoding.encode(text=text))"
   ]
  },
  {
   "cell_type": "code",
   "execution_count": 40,
   "id": "da693fca",
   "metadata": {},
   "outputs": [],
   "source": [
    "# cleaning tweet\n",
    "import re\n",
    "\n",
    "def clean_tweet_text(text):\n",
    "    # Supprimer les hashtags\n",
    "    text=text.lower()\n",
    "    text = re.sub(r'#\\w+', '', text)\n",
    "    # Supprimer les mentions d'utilisateur\n",
    "    text = re.sub(r'@\\w+', '', text)\n",
    "    # Supprimer les liens\n",
    "    text = re.sub(r'http\\S+', '', text)\n",
    "    # Supprimer les symboles de ponctuation\n",
    "    text = re.sub(r'[^\\w\\s]', '', text)\n",
    "    text = text.replace(\"\\n\", \" \")\n",
    "    # Retourner le texte nettoyé\n",
    "    return text"
   ]
  },
  {
   "cell_type": "code",
   "execution_count": 41,
   "id": "b67e5a71",
   "metadata": {},
   "outputs": [],
   "source": [
    "def get_embedding(text):\n",
    "    #text = text.replace(\"\\n\", \" \")\n",
    "    return openai.Embedding.create(input =text, model=\"text-embedding-ada-002\")['data'][0]['embedding']"
   ]
  },
  {
   "cell_type": "code",
   "execution_count": 42,
   "id": "ba9e5777",
   "metadata": {},
   "outputs": [],
   "source": [
    "data['clean_tweet']=data['text'].apply(clean_tweet_text)"
   ]
  },
  {
   "cell_type": "code",
   "execution_count": 43,
   "id": "0c387f53",
   "metadata": {},
   "outputs": [
    {
     "data": {
      "text/html": [
       "<div>\n",
       "<style scoped>\n",
       "    .dataframe tbody tr th:only-of-type {\n",
       "        vertical-align: middle;\n",
       "    }\n",
       "\n",
       "    .dataframe tbody tr th {\n",
       "        vertical-align: top;\n",
       "    }\n",
       "\n",
       "    .dataframe thead th {\n",
       "        text-align: right;\n",
       "    }\n",
       "</style>\n",
       "<table border=\"1\" class=\"dataframe\">\n",
       "  <thead>\n",
       "    <tr style=\"text-align: right;\">\n",
       "      <th></th>\n",
       "      <th>id</th>\n",
       "      <th>keyword</th>\n",
       "      <th>location</th>\n",
       "      <th>text</th>\n",
       "      <th>target</th>\n",
       "      <th>clean_tweet</th>\n",
       "    </tr>\n",
       "  </thead>\n",
       "  <tbody>\n",
       "    <tr>\n",
       "      <th>0</th>\n",
       "      <td>1</td>\n",
       "      <td>NaN</td>\n",
       "      <td>NaN</td>\n",
       "      <td>Our Deeds are the Reason of this #earthquake M...</td>\n",
       "      <td>1</td>\n",
       "      <td>our deeds are the reason of this  may allah fo...</td>\n",
       "    </tr>\n",
       "    <tr>\n",
       "      <th>1</th>\n",
       "      <td>4</td>\n",
       "      <td>NaN</td>\n",
       "      <td>NaN</td>\n",
       "      <td>Forest fire near La Ronge Sask. Canada</td>\n",
       "      <td>1</td>\n",
       "      <td>forest fire near la ronge sask canada</td>\n",
       "    </tr>\n",
       "    <tr>\n",
       "      <th>2</th>\n",
       "      <td>5</td>\n",
       "      <td>NaN</td>\n",
       "      <td>NaN</td>\n",
       "      <td>All residents asked to 'shelter in place' are ...</td>\n",
       "      <td>1</td>\n",
       "      <td>all residents asked to shelter in place are be...</td>\n",
       "    </tr>\n",
       "    <tr>\n",
       "      <th>3</th>\n",
       "      <td>6</td>\n",
       "      <td>NaN</td>\n",
       "      <td>NaN</td>\n",
       "      <td>13,000 people receive #wildfires evacuation or...</td>\n",
       "      <td>1</td>\n",
       "      <td>13000 people receive  evacuation orders in cal...</td>\n",
       "    </tr>\n",
       "    <tr>\n",
       "      <th>4</th>\n",
       "      <td>7</td>\n",
       "      <td>NaN</td>\n",
       "      <td>NaN</td>\n",
       "      <td>Just got sent this photo from Ruby #Alaska as ...</td>\n",
       "      <td>1</td>\n",
       "      <td>just got sent this photo from ruby  as smoke f...</td>\n",
       "    </tr>\n",
       "  </tbody>\n",
       "</table>\n",
       "</div>"
      ],
      "text/plain": [
       "   id keyword location                                               text  \\\n",
       "0   1     NaN      NaN  Our Deeds are the Reason of this #earthquake M...   \n",
       "1   4     NaN      NaN             Forest fire near La Ronge Sask. Canada   \n",
       "2   5     NaN      NaN  All residents asked to 'shelter in place' are ...   \n",
       "3   6     NaN      NaN  13,000 people receive #wildfires evacuation or...   \n",
       "4   7     NaN      NaN  Just got sent this photo from Ruby #Alaska as ...   \n",
       "\n",
       "   target                                        clean_tweet  \n",
       "0       1  our deeds are the reason of this  may allah fo...  \n",
       "1       1              forest fire near la ronge sask canada  \n",
       "2       1  all residents asked to shelter in place are be...  \n",
       "3       1  13000 people receive  evacuation orders in cal...  \n",
       "4       1  just got sent this photo from ruby  as smoke f...  "
      ]
     },
     "execution_count": 43,
     "metadata": {},
     "output_type": "execute_result"
    }
   ],
   "source": [
    "data.head()"
   ]
  },
  {
   "cell_type": "code",
   "execution_count": 44,
   "id": "beeccaa8",
   "metadata": {},
   "outputs": [],
   "source": [
    "# compter le nombre de tokens\n",
    "data['num_token']=data['clean_tweet'].apply(coun_token)"
   ]
  },
  {
   "cell_type": "code",
   "execution_count": 113,
   "id": "ad511db6",
   "metadata": {},
   "outputs": [
    {
     "ename": "AttributeError",
     "evalue": "'DataFrame' object has no attribute 'num_token'",
     "output_type": "error",
     "traceback": [
      "\u001b[1;31m---------------------------------------------------------------------------\u001b[0m",
      "\u001b[1;31mAttributeError\u001b[0m                            Traceback (most recent call last)",
      "Input \u001b[1;32mIn [113]\u001b[0m, in \u001b[0;36m<cell line: 1>\u001b[1;34m()\u001b[0m\n\u001b[1;32m----> 1\u001b[0m \u001b[43mdata\u001b[49m\u001b[38;5;241;43m.\u001b[39;49m\u001b[43mnum_token\u001b[49m\u001b[38;5;241m.\u001b[39msum()\u001b[38;5;241m*\u001b[39m\u001b[38;5;241m0.0004\u001b[39m\u001b[38;5;241m/\u001b[39m\u001b[38;5;241m1000\u001b[39m\n",
      "File \u001b[1;32m~\\anaconda\\lib\\site-packages\\pandas\\core\\generic.py:5575\u001b[0m, in \u001b[0;36mNDFrame.__getattr__\u001b[1;34m(self, name)\u001b[0m\n\u001b[0;32m   5568\u001b[0m \u001b[38;5;28;01mif\u001b[39;00m (\n\u001b[0;32m   5569\u001b[0m     name \u001b[38;5;129;01mnot\u001b[39;00m \u001b[38;5;129;01min\u001b[39;00m \u001b[38;5;28mself\u001b[39m\u001b[38;5;241m.\u001b[39m_internal_names_set\n\u001b[0;32m   5570\u001b[0m     \u001b[38;5;129;01mand\u001b[39;00m name \u001b[38;5;129;01mnot\u001b[39;00m \u001b[38;5;129;01min\u001b[39;00m \u001b[38;5;28mself\u001b[39m\u001b[38;5;241m.\u001b[39m_metadata\n\u001b[0;32m   5571\u001b[0m     \u001b[38;5;129;01mand\u001b[39;00m name \u001b[38;5;129;01mnot\u001b[39;00m \u001b[38;5;129;01min\u001b[39;00m \u001b[38;5;28mself\u001b[39m\u001b[38;5;241m.\u001b[39m_accessors\n\u001b[0;32m   5572\u001b[0m     \u001b[38;5;129;01mand\u001b[39;00m \u001b[38;5;28mself\u001b[39m\u001b[38;5;241m.\u001b[39m_info_axis\u001b[38;5;241m.\u001b[39m_can_hold_identifiers_and_holds_name(name)\n\u001b[0;32m   5573\u001b[0m ):\n\u001b[0;32m   5574\u001b[0m     \u001b[38;5;28;01mreturn\u001b[39;00m \u001b[38;5;28mself\u001b[39m[name]\n\u001b[1;32m-> 5575\u001b[0m \u001b[38;5;28;01mreturn\u001b[39;00m \u001b[38;5;28;43mobject\u001b[39;49m\u001b[38;5;241;43m.\u001b[39;49m\u001b[38;5;21;43m__getattribute__\u001b[39;49m\u001b[43m(\u001b[49m\u001b[38;5;28;43mself\u001b[39;49m\u001b[43m,\u001b[49m\u001b[43m \u001b[49m\u001b[43mname\u001b[49m\u001b[43m)\u001b[49m\n",
      "\u001b[1;31mAttributeError\u001b[0m: 'DataFrame' object has no attribute 'num_token'"
     ]
    }
   ],
   "source": [
    "# estimation du cout\n",
    "data.num_token.sum()*0.0004/1000"
   ]
  },
  {
   "cell_type": "code",
   "execution_count": 46,
   "id": "9fbb2c58",
   "metadata": {},
   "outputs": [],
   "source": [
    "data=data.sample(frac=0.65,random_state=42)"
   ]
  },
  {
   "cell_type": "code",
   "execution_count": 47,
   "id": "823feb44",
   "metadata": {},
   "outputs": [
    {
     "data": {
      "text/html": [
       "<div>\n",
       "<style scoped>\n",
       "    .dataframe tbody tr th:only-of-type {\n",
       "        vertical-align: middle;\n",
       "    }\n",
       "\n",
       "    .dataframe tbody tr th {\n",
       "        vertical-align: top;\n",
       "    }\n",
       "\n",
       "    .dataframe thead th {\n",
       "        text-align: right;\n",
       "    }\n",
       "</style>\n",
       "<table border=\"1\" class=\"dataframe\">\n",
       "  <thead>\n",
       "    <tr style=\"text-align: right;\">\n",
       "      <th></th>\n",
       "      <th>clean_tweet</th>\n",
       "      <th>target</th>\n",
       "    </tr>\n",
       "  </thead>\n",
       "  <tbody>\n",
       "    <tr>\n",
       "      <th>2644</th>\n",
       "      <td>so you have a new weapon that can cause unimag...</td>\n",
       "      <td>1</td>\n",
       "    </tr>\n",
       "    <tr>\n",
       "      <th>2227</th>\n",
       "      <td>the famp things i do for  just got soaked in a...</td>\n",
       "      <td>0</td>\n",
       "    </tr>\n",
       "    <tr>\n",
       "      <th>5448</th>\n",
       "      <td>dt  rt  ûïthe col police can catch a pickpocke...</td>\n",
       "      <td>1</td>\n",
       "    </tr>\n",
       "    <tr>\n",
       "      <th>132</th>\n",
       "      <td>aftershock back to school kick off was great i...</td>\n",
       "      <td>0</td>\n",
       "    </tr>\n",
       "    <tr>\n",
       "      <th>6845</th>\n",
       "      <td>in response to trauma children of addicts deve...</td>\n",
       "      <td>0</td>\n",
       "    </tr>\n",
       "  </tbody>\n",
       "</table>\n",
       "</div>"
      ],
      "text/plain": [
       "                                            clean_tweet  target\n",
       "2644  so you have a new weapon that can cause unimag...       1\n",
       "2227  the famp things i do for  just got soaked in a...       0\n",
       "5448  dt  rt  ûïthe col police can catch a pickpocke...       1\n",
       "132   aftershock back to school kick off was great i...       0\n",
       "6845  in response to trauma children of addicts deve...       0"
      ]
     },
     "execution_count": 47,
     "metadata": {},
     "output_type": "execute_result"
    }
   ],
   "source": [
    "data=data.loc[:,[\"clean_tweet\",'target']]\n",
    "data.head()"
   ]
  },
  {
   "cell_type": "code",
   "execution_count": 48,
   "id": "86cfbb9e",
   "metadata": {},
   "outputs": [
    {
     "data": {
      "text/plain": [
       "(4948, 2)"
      ]
     },
     "execution_count": 48,
     "metadata": {},
     "output_type": "execute_result"
    }
   ],
   "source": [
    "data.shape"
   ]
  },
  {
   "cell_type": "code",
   "execution_count": 51,
   "id": "b4af2f96",
   "metadata": {},
   "outputs": [],
   "source": [
    "import os"
   ]
  },
  {
   "cell_type": "code",
   "execution_count": 52,
   "id": "cb51d103",
   "metadata": {},
   "outputs": [],
   "source": [
    "openai.api_key=\"KEY\""
   ]
  },
  {
   "cell_type": "code",
   "execution_count": 53,
   "id": "312d9227",
   "metadata": {},
   "outputs": [],
   "source": [
    "data['embedding']=data['clean_tweet'].apply(get_embedding)"
   ]
  },
  {
   "cell_type": "code",
   "execution_count": 54,
   "id": "e4cb2c15",
   "metadata": {},
   "outputs": [
    {
     "data": {
      "text/html": [
       "<div>\n",
       "<style scoped>\n",
       "    .dataframe tbody tr th:only-of-type {\n",
       "        vertical-align: middle;\n",
       "    }\n",
       "\n",
       "    .dataframe tbody tr th {\n",
       "        vertical-align: top;\n",
       "    }\n",
       "\n",
       "    .dataframe thead th {\n",
       "        text-align: right;\n",
       "    }\n",
       "</style>\n",
       "<table border=\"1\" class=\"dataframe\">\n",
       "  <thead>\n",
       "    <tr style=\"text-align: right;\">\n",
       "      <th></th>\n",
       "      <th>clean_tweet</th>\n",
       "      <th>target</th>\n",
       "      <th>embedding</th>\n",
       "    </tr>\n",
       "  </thead>\n",
       "  <tbody>\n",
       "    <tr>\n",
       "      <th>2644</th>\n",
       "      <td>so you have a new weapon that can cause unimag...</td>\n",
       "      <td>1</td>\n",
       "      <td>[-0.01535287220031023, -0.005396141670644283, ...</td>\n",
       "    </tr>\n",
       "    <tr>\n",
       "      <th>2227</th>\n",
       "      <td>the famp things i do for  just got soaked in a...</td>\n",
       "      <td>0</td>\n",
       "      <td>[-0.017056267708539963, -0.004621139261871576,...</td>\n",
       "    </tr>\n",
       "    <tr>\n",
       "      <th>5448</th>\n",
       "      <td>dt  rt  ûïthe col police can catch a pickpocke...</td>\n",
       "      <td>1</td>\n",
       "      <td>[-0.0024616981390863657, 0.01179935410618782, ...</td>\n",
       "    </tr>\n",
       "    <tr>\n",
       "      <th>132</th>\n",
       "      <td>aftershock back to school kick off was great i...</td>\n",
       "      <td>0</td>\n",
       "      <td>[0.009032449685037136, -0.0015162565978243947,...</td>\n",
       "    </tr>\n",
       "    <tr>\n",
       "      <th>6845</th>\n",
       "      <td>in response to trauma children of addicts deve...</td>\n",
       "      <td>0</td>\n",
       "      <td>[-0.014810529537498951, 0.0043197376653552055,...</td>\n",
       "    </tr>\n",
       "  </tbody>\n",
       "</table>\n",
       "</div>"
      ],
      "text/plain": [
       "                                            clean_tweet  target  \\\n",
       "2644  so you have a new weapon that can cause unimag...       1   \n",
       "2227  the famp things i do for  just got soaked in a...       0   \n",
       "5448  dt  rt  ûïthe col police can catch a pickpocke...       1   \n",
       "132   aftershock back to school kick off was great i...       0   \n",
       "6845  in response to trauma children of addicts deve...       0   \n",
       "\n",
       "                                              embedding  \n",
       "2644  [-0.01535287220031023, -0.005396141670644283, ...  \n",
       "2227  [-0.017056267708539963, -0.004621139261871576,...  \n",
       "5448  [-0.0024616981390863657, 0.01179935410618782, ...  \n",
       "132   [0.009032449685037136, -0.0015162565978243947,...  \n",
       "6845  [-0.014810529537498951, 0.0043197376653552055,...  "
      ]
     },
     "execution_count": 54,
     "metadata": {},
     "output_type": "execute_result"
    }
   ],
   "source": [
    "data.head()"
   ]
  },
  {
   "cell_type": "code",
   "execution_count": 55,
   "id": "8c0113da",
   "metadata": {},
   "outputs": [],
   "source": [
    "data.to_csv('embedding.csv')"
   ]
  },
  {
   "cell_type": "code",
   "execution_count": 59,
   "id": "02172579",
   "metadata": {},
   "outputs": [],
   "source": [
    "from sklearn.ensemble import RandomForestClassifier,GradientBoostingClassifier\n",
    "from xgboost import XGBClassifier\n",
    "from sklearn.linear_model import LogisticRegression\n",
    "from sklearn.svm import SVC\n",
    "from sklearn.model_selection import train_test_split\n",
    "from sklearn.metrics import classification_report,accuracy_score"
   ]
  },
  {
   "cell_type": "code",
   "execution_count": 60,
   "id": "8f7cbf0b",
   "metadata": {},
   "outputs": [],
   "source": [
    "X=list(data[\"embedding\"])\n",
    "y=data.target"
   ]
  },
  {
   "cell_type": "code",
   "execution_count": 61,
   "id": "7964945d",
   "metadata": {},
   "outputs": [],
   "source": [
    "X_train,X_test,y_train,y_test=train_test_split(X,y,random_state=42,test_size=0.2)"
   ]
  },
  {
   "cell_type": "code",
   "execution_count": 62,
   "id": "41d5d23c",
   "metadata": {},
   "outputs": [
    {
     "name": "stdout",
     "output_type": "stream",
     "text": [
      "Random Forest score: 0.8121212121212121\n"
     ]
    }
   ],
   "source": [
    "# Instancier les modèles\n",
    "rf = RandomForestClassifier(random_state=42)\n",
    "\n",
    "# Entraîner les modèles\n",
    "rf.fit(X_train, y_train)\n",
    "\n",
    "# Évaluer les modèles sur les données de test\n",
    "rf_score = accuracy_score(y_test, rf.predict(X_test))\n",
    "\n",
    "# Afficher les scores\n",
    "print(f\"Random Forest score: {rf_score}\")\n"
   ]
  },
  {
   "cell_type": "code",
   "execution_count": 63,
   "id": "17749765",
   "metadata": {},
   "outputs": [
    {
     "name": "stdout",
     "output_type": "stream",
     "text": [
      "              precision    recall  f1-score   support\n",
      "\n",
      "           0       0.77      0.93      0.84       541\n",
      "           1       0.89      0.67      0.76       449\n",
      "\n",
      "    accuracy                           0.81       990\n",
      "   macro avg       0.83      0.80      0.80       990\n",
      "weighted avg       0.83      0.81      0.81       990\n",
      "\n"
     ]
    }
   ],
   "source": [
    "print(classification_report(y_test,rf.predict(X_test)))"
   ]
  },
  {
   "cell_type": "code",
   "execution_count": 65,
   "id": "1fa1547b",
   "metadata": {},
   "outputs": [
    {
     "name": "stdout",
     "output_type": "stream",
     "text": [
      "XGBoost score: 0.8313131313131313\n",
      "Logistic Regression score: 0.8373737373737373\n"
     ]
    }
   ],
   "source": [
    "# Instancier les modèles\n",
    "\n",
    "#gb = GradientBoostingClassifier(random_state=42)\n",
    "xgb = XGBClassifier()\n",
    "lr = LogisticRegression()\n",
    "\n",
    "# Entraîner les modèles\n",
    "#gb.fit(X_train, y_train)\n",
    "xgb.fit(X_train, y_train)\n",
    "lr.fit(X_train, y_train)\n",
    "\n",
    "\n",
    "# Évaluer les modèles sur les données de test\n",
    "\n",
    "#gb_score = accuracy_score(y_test, gb.predict(X_test))\n",
    "xgb_score = accuracy_score(y_test, xgb.predict(X_test))\n",
    "lr_score = accuracy_score(y_test, lr.predict(X_test))\n",
    "\n",
    "# Afficher les scores\n",
    "#print(f\"Gradient Boosting score: {gb_score}\")\n",
    "print(f\"XGBoost score: {xgb_score}\")\n",
    "print(f\"Logistic Regression score: {lr_score}\")"
   ]
  },
  {
   "cell_type": "code",
   "execution_count": 66,
   "id": "a3130d67",
   "metadata": {},
   "outputs": [
    {
     "name": "stdout",
     "output_type": "stream",
     "text": [
      "              precision    recall  f1-score   support\n",
      "\n",
      "           0       0.83      0.88      0.86       541\n",
      "           1       0.85      0.78      0.81       449\n",
      "\n",
      "    accuracy                           0.84       990\n",
      "   macro avg       0.84      0.83      0.83       990\n",
      "weighted avg       0.84      0.84      0.84       990\n",
      "\n"
     ]
    }
   ],
   "source": [
    "print(classification_report(y_test,lr.predict(X_test)))"
   ]
  },
  {
   "cell_type": "code",
   "execution_count": 68,
   "id": "0dec6bf3",
   "metadata": {},
   "outputs": [
    {
     "name": "stdout",
     "output_type": "stream",
     "text": [
      "Cross-validation scores: [0.8270202  0.81944444 0.82954545 0.85208597 0.82553729]\n",
      "Mean score: 0.8307266725408319\n",
      "Standard deviation: 0.011185445718753607\n"
     ]
    }
   ],
   "source": [
    "from sklearn.model_selection import cross_val_score\n",
    "\n",
    "# Créer un objet LogisticRegression\n",
    "\n",
    "lr = LogisticRegression()\n",
    "\n",
    "# Effectuer une cross-validation à 5 plis et calculer les scores\n",
    "\n",
    "scores = cross_val_score(lr, X_train, y_train, cv=5, scoring='accuracy')\n",
    "\n",
    "# Afficher les scores moyens et l'écart-type\n",
    "\n",
    "print(\"Cross-validation scores:\", scores)\n",
    "print(\"Mean score:\", scores.mean())\n",
    "print(\"Standard deviation:\", scores.std())\n"
   ]
  },
  {
   "cell_type": "code",
   "execution_count": 97,
   "id": "e54b6587",
   "metadata": {},
   "outputs": [],
   "source": [
    "# try a \n",
    "import tensorflow as tf\n",
    "from tensorflow.keras.models import Sequential\n",
    "from tensorflow.keras.layers import Dense\n",
    "from tensorflow.keras.callbacks import EarlyStopping"
   ]
  },
  {
   "cell_type": "code",
   "execution_count": 98,
   "id": "929d7e9d",
   "metadata": {},
   "outputs": [],
   "source": [
    "tf.random.set_seed(42)\n",
    "model = tf.keras.models.Sequential([\n",
    "    tf.keras.layers.Input(shape=( 1536,)),\n",
    "    tf.keras.layers.Dense(128, activation=\"relu\"),\n",
    "    tf.keras.layers.Dropout(0.5),\n",
    "    tf.keras.layers.Dense(1, activation=\"sigmoid\")\n",
    "])"
   ]
  },
  {
   "cell_type": "code",
   "execution_count": 99,
   "id": "55eaf71d",
   "metadata": {},
   "outputs": [],
   "source": [
    "model.compile(optimizer=\"adam\",\n",
    "              loss=\"binary_crossentropy\",\n",
    "              metrics=[\"accuracy\"])"
   ]
  },
  {
   "cell_type": "code",
   "execution_count": 100,
   "id": "5c910446",
   "metadata": {},
   "outputs": [],
   "source": [
    "stop_model=EarlyStopping(patience=5,monitor='val_loss')"
   ]
  },
  {
   "cell_type": "code",
   "execution_count": 101,
   "id": "d3dfe2c9",
   "metadata": {},
   "outputs": [],
   "source": [
    "import numpy as np\n",
    "\n",
    "X_train = np.array(X_train)\n",
    "y_train = np.array(y_train.tolist()).reshape(-1, 1)\n",
    "X_test = np.array(X_train)\n",
    "y_test = np.array(y_train.tolist()).reshape(-1, 1)"
   ]
  },
  {
   "cell_type": "code",
   "execution_count": 102,
   "id": "fc75c7e1",
   "metadata": {},
   "outputs": [
    {
     "name": "stdout",
     "output_type": "stream",
     "text": [
      "Epoch 1/100\n",
      "124/124 [==============================] - 1s 7ms/step - loss: 0.5389 - accuracy: 0.7557 - val_loss: 0.4419 - val_accuracy: 0.8143\n",
      "Epoch 2/100\n",
      "124/124 [==============================] - 1s 5ms/step - loss: 0.4221 - accuracy: 0.8239 - val_loss: 0.3954 - val_accuracy: 0.8295\n",
      "Epoch 3/100\n",
      "124/124 [==============================] - 1s 6ms/step - loss: 0.3934 - accuracy: 0.8373 - val_loss: 0.3702 - val_accuracy: 0.8416\n",
      "Epoch 4/100\n",
      "124/124 [==============================] - 1s 7ms/step - loss: 0.3829 - accuracy: 0.8408 - val_loss: 0.3586 - val_accuracy: 0.8509\n",
      "Epoch 5/100\n",
      "124/124 [==============================] - 1s 7ms/step - loss: 0.3748 - accuracy: 0.8423 - val_loss: 0.3522 - val_accuracy: 0.8555\n",
      "Epoch 6/100\n",
      "124/124 [==============================] - 1s 5ms/step - loss: 0.3666 - accuracy: 0.8497 - val_loss: 0.3472 - val_accuracy: 0.8555\n",
      "Epoch 7/100\n",
      "124/124 [==============================] - 1s 5ms/step - loss: 0.3616 - accuracy: 0.8471 - val_loss: 0.3438 - val_accuracy: 0.8580\n",
      "Epoch 8/100\n",
      "124/124 [==============================] - 1s 6ms/step - loss: 0.3503 - accuracy: 0.8550 - val_loss: 0.3304 - val_accuracy: 0.8641\n",
      "Epoch 9/100\n",
      "124/124 [==============================] - 1s 6ms/step - loss: 0.3448 - accuracy: 0.8578 - val_loss: 0.3249 - val_accuracy: 0.8661\n",
      "Epoch 10/100\n",
      "124/124 [==============================] - 1s 5ms/step - loss: 0.3386 - accuracy: 0.8618 - val_loss: 0.3190 - val_accuracy: 0.8686\n",
      "Epoch 11/100\n",
      "124/124 [==============================] - 1s 6ms/step - loss: 0.3306 - accuracy: 0.8613 - val_loss: 0.3162 - val_accuracy: 0.8666\n",
      "Epoch 12/100\n",
      "124/124 [==============================] - 1s 6ms/step - loss: 0.3285 - accuracy: 0.8575 - val_loss: 0.3082 - val_accuracy: 0.8722\n",
      "Epoch 13/100\n",
      "124/124 [==============================] - 1s 5ms/step - loss: 0.3201 - accuracy: 0.8679 - val_loss: 0.3024 - val_accuracy: 0.8754\n",
      "Epoch 14/100\n",
      "124/124 [==============================] - 1s 4ms/step - loss: 0.3163 - accuracy: 0.8686 - val_loss: 0.2970 - val_accuracy: 0.8770\n",
      "Epoch 15/100\n",
      "124/124 [==============================] - 1s 5ms/step - loss: 0.3104 - accuracy: 0.8732 - val_loss: 0.3016 - val_accuracy: 0.8820\n",
      "Epoch 16/100\n",
      "124/124 [==============================] - 1s 6ms/step - loss: 0.3052 - accuracy: 0.8754 - val_loss: 0.2940 - val_accuracy: 0.8749\n",
      "Epoch 17/100\n",
      "124/124 [==============================] - 1s 5ms/step - loss: 0.3017 - accuracy: 0.8732 - val_loss: 0.2854 - val_accuracy: 0.8883\n",
      "Epoch 18/100\n",
      "124/124 [==============================] - 1s 5ms/step - loss: 0.2980 - accuracy: 0.8744 - val_loss: 0.2771 - val_accuracy: 0.8868\n",
      "Epoch 19/100\n",
      "124/124 [==============================] - 1s 6ms/step - loss: 0.2916 - accuracy: 0.8813 - val_loss: 0.2720 - val_accuracy: 0.8906\n",
      "Epoch 20/100\n",
      "124/124 [==============================] - 1s 7ms/step - loss: 0.2890 - accuracy: 0.8797 - val_loss: 0.2667 - val_accuracy: 0.8909\n",
      "Epoch 21/100\n",
      "124/124 [==============================] - 1s 5ms/step - loss: 0.2839 - accuracy: 0.8818 - val_loss: 0.2693 - val_accuracy: 0.8936\n",
      "Epoch 22/100\n",
      "124/124 [==============================] - 1s 6ms/step - loss: 0.2802 - accuracy: 0.8835 - val_loss: 0.2642 - val_accuracy: 0.8891\n",
      "Epoch 23/100\n",
      "124/124 [==============================] - 1s 6ms/step - loss: 0.2735 - accuracy: 0.8861 - val_loss: 0.2640 - val_accuracy: 0.8848\n",
      "Epoch 24/100\n",
      "124/124 [==============================] - 1s 6ms/step - loss: 0.2693 - accuracy: 0.8835 - val_loss: 0.2543 - val_accuracy: 0.8911\n",
      "Epoch 25/100\n",
      "124/124 [==============================] - 1s 5ms/step - loss: 0.2627 - accuracy: 0.8891 - val_loss: 0.2433 - val_accuracy: 0.9007\n",
      "Epoch 26/100\n",
      "124/124 [==============================] - 0s 4ms/step - loss: 0.2573 - accuracy: 0.8921 - val_loss: 0.2374 - val_accuracy: 0.9012\n",
      "Epoch 27/100\n",
      "124/124 [==============================] - 1s 5ms/step - loss: 0.2551 - accuracy: 0.8934 - val_loss: 0.2327 - val_accuracy: 0.9073\n",
      "Epoch 28/100\n",
      "124/124 [==============================] - 1s 6ms/step - loss: 0.2466 - accuracy: 0.9032 - val_loss: 0.2303 - val_accuracy: 0.9042\n",
      "Epoch 29/100\n",
      "124/124 [==============================] - 1s 6ms/step - loss: 0.2496 - accuracy: 0.8941 - val_loss: 0.2270 - val_accuracy: 0.9045\n",
      "Epoch 30/100\n",
      "124/124 [==============================] - 1s 5ms/step - loss: 0.2348 - accuracy: 0.9047 - val_loss: 0.2186 - val_accuracy: 0.9108\n",
      "Epoch 31/100\n",
      "124/124 [==============================] - 1s 6ms/step - loss: 0.2357 - accuracy: 0.9022 - val_loss: 0.2117 - val_accuracy: 0.9138\n",
      "Epoch 32/100\n",
      "124/124 [==============================] - 1s 6ms/step - loss: 0.2278 - accuracy: 0.9070 - val_loss: 0.2073 - val_accuracy: 0.9126\n",
      "Epoch 33/100\n",
      "124/124 [==============================] - 1s 4ms/step - loss: 0.2218 - accuracy: 0.9073 - val_loss: 0.2014 - val_accuracy: 0.9179\n",
      "Epoch 34/100\n",
      "124/124 [==============================] - 1s 5ms/step - loss: 0.2228 - accuracy: 0.9096 - val_loss: 0.1998 - val_accuracy: 0.9171\n",
      "Epoch 35/100\n",
      "124/124 [==============================] - 1s 5ms/step - loss: 0.2168 - accuracy: 0.9133 - val_loss: 0.1941 - val_accuracy: 0.9184\n",
      "Epoch 36/100\n",
      "124/124 [==============================] - 1s 7ms/step - loss: 0.2091 - accuracy: 0.9179 - val_loss: 0.1914 - val_accuracy: 0.9328\n",
      "Epoch 37/100\n",
      "124/124 [==============================] - 1s 7ms/step - loss: 0.2048 - accuracy: 0.9144 - val_loss: 0.1849 - val_accuracy: 0.9373\n",
      "Epoch 38/100\n",
      "124/124 [==============================] - 1s 7ms/step - loss: 0.2021 - accuracy: 0.9217 - val_loss: 0.1750 - val_accuracy: 0.9298\n",
      "Epoch 39/100\n",
      "124/124 [==============================] - 1s 8ms/step - loss: 0.1960 - accuracy: 0.9240 - val_loss: 0.1717 - val_accuracy: 0.9315\n",
      "Epoch 40/100\n",
      "124/124 [==============================] - 1s 7ms/step - loss: 0.1920 - accuracy: 0.9262 - val_loss: 0.1668 - val_accuracy: 0.9459\n",
      "Epoch 41/100\n",
      "124/124 [==============================] - 1s 8ms/step - loss: 0.1841 - accuracy: 0.9272 - val_loss: 0.1611 - val_accuracy: 0.9368\n",
      "Epoch 42/100\n",
      "124/124 [==============================] - 1s 7ms/step - loss: 0.1815 - accuracy: 0.9290 - val_loss: 0.1537 - val_accuracy: 0.9432\n",
      "Epoch 43/100\n",
      "124/124 [==============================] - 1s 6ms/step - loss: 0.1744 - accuracy: 0.9318 - val_loss: 0.1544 - val_accuracy: 0.9548\n",
      "Epoch 44/100\n",
      "124/124 [==============================] - 1s 5ms/step - loss: 0.1691 - accuracy: 0.9353 - val_loss: 0.1461 - val_accuracy: 0.9548\n",
      "Epoch 45/100\n",
      "124/124 [==============================] - 1s 7ms/step - loss: 0.1623 - accuracy: 0.9409 - val_loss: 0.1475 - val_accuracy: 0.9588\n",
      "Epoch 46/100\n",
      "124/124 [==============================] - 1s 8ms/step - loss: 0.1624 - accuracy: 0.9404 - val_loss: 0.1450 - val_accuracy: 0.9611\n",
      "Epoch 47/100\n",
      "124/124 [==============================] - 1s 8ms/step - loss: 0.1550 - accuracy: 0.9409 - val_loss: 0.1327 - val_accuracy: 0.9629\n",
      "Epoch 48/100\n",
      "124/124 [==============================] - 1s 7ms/step - loss: 0.1500 - accuracy: 0.9442 - val_loss: 0.1247 - val_accuracy: 0.9588\n",
      "Epoch 49/100\n",
      "124/124 [==============================] - 1s 6ms/step - loss: 0.1473 - accuracy: 0.9444 - val_loss: 0.1221 - val_accuracy: 0.9613\n",
      "Epoch 50/100\n",
      "124/124 [==============================] - 1s 6ms/step - loss: 0.1401 - accuracy: 0.9500 - val_loss: 0.1172 - val_accuracy: 0.9603\n",
      "Epoch 51/100\n",
      "124/124 [==============================] - 1s 9ms/step - loss: 0.1396 - accuracy: 0.9505 - val_loss: 0.1152 - val_accuracy: 0.9697\n",
      "Epoch 52/100\n",
      "124/124 [==============================] - 1s 9ms/step - loss: 0.1313 - accuracy: 0.9528 - val_loss: 0.1078 - val_accuracy: 0.9694\n",
      "Epoch 53/100\n",
      "124/124 [==============================] - 1s 7ms/step - loss: 0.1317 - accuracy: 0.9558 - val_loss: 0.1060 - val_accuracy: 0.9720\n",
      "Epoch 54/100\n",
      "124/124 [==============================] - 1s 6ms/step - loss: 0.1298 - accuracy: 0.9515 - val_loss: 0.1009 - val_accuracy: 0.9704\n",
      "Epoch 55/100\n",
      "124/124 [==============================] - 1s 7ms/step - loss: 0.1238 - accuracy: 0.9570 - val_loss: 0.0992 - val_accuracy: 0.9735\n",
      "Epoch 56/100\n",
      "124/124 [==============================] - 1s 7ms/step - loss: 0.1179 - accuracy: 0.9581 - val_loss: 0.0925 - val_accuracy: 0.9745\n",
      "Epoch 57/100\n",
      "124/124 [==============================] - 1s 6ms/step - loss: 0.1157 - accuracy: 0.9631 - val_loss: 0.0905 - val_accuracy: 0.9740\n"
     ]
    },
    {
     "name": "stdout",
     "output_type": "stream",
     "text": [
      "Epoch 58/100\n",
      "124/124 [==============================] - 1s 5ms/step - loss: 0.1125 - accuracy: 0.9616 - val_loss: 0.0902 - val_accuracy: 0.9793\n",
      "Epoch 59/100\n",
      "124/124 [==============================] - 1s 7ms/step - loss: 0.1097 - accuracy: 0.9626 - val_loss: 0.0844 - val_accuracy: 0.9800\n",
      "Epoch 60/100\n",
      "124/124 [==============================] - 1s 5ms/step - loss: 0.1060 - accuracy: 0.9644 - val_loss: 0.0847 - val_accuracy: 0.9735\n",
      "Epoch 61/100\n",
      "124/124 [==============================] - 1s 5ms/step - loss: 0.1015 - accuracy: 0.9644 - val_loss: 0.0782 - val_accuracy: 0.9813\n",
      "Epoch 62/100\n",
      "124/124 [==============================] - 1s 6ms/step - loss: 0.1001 - accuracy: 0.9669 - val_loss: 0.0765 - val_accuracy: 0.9765\n",
      "Epoch 63/100\n",
      "124/124 [==============================] - 1s 8ms/step - loss: 0.1026 - accuracy: 0.9656 - val_loss: 0.0731 - val_accuracy: 0.9831\n",
      "Epoch 64/100\n",
      "124/124 [==============================] - 1s 6ms/step - loss: 0.0961 - accuracy: 0.9694 - val_loss: 0.0708 - val_accuracy: 0.9843\n",
      "Epoch 65/100\n",
      "124/124 [==============================] - 1s 7ms/step - loss: 0.0921 - accuracy: 0.9689 - val_loss: 0.0705 - val_accuracy: 0.9836\n",
      "Epoch 66/100\n",
      "124/124 [==============================] - 1s 6ms/step - loss: 0.0968 - accuracy: 0.9672 - val_loss: 0.0731 - val_accuracy: 0.9790\n",
      "Epoch 67/100\n",
      "124/124 [==============================] - 1s 8ms/step - loss: 0.0900 - accuracy: 0.9730 - val_loss: 0.0620 - val_accuracy: 0.9853\n",
      "Epoch 68/100\n",
      "124/124 [==============================] - 1s 6ms/step - loss: 0.0887 - accuracy: 0.9720 - val_loss: 0.0625 - val_accuracy: 0.9864\n",
      "Epoch 69/100\n",
      "124/124 [==============================] - 1s 8ms/step - loss: 0.0870 - accuracy: 0.9704 - val_loss: 0.0632 - val_accuracy: 0.9846\n",
      "Epoch 70/100\n",
      "124/124 [==============================] - 1s 8ms/step - loss: 0.0833 - accuracy: 0.9755 - val_loss: 0.0563 - val_accuracy: 0.9853\n",
      "Epoch 71/100\n",
      "124/124 [==============================] - 1s 8ms/step - loss: 0.0812 - accuracy: 0.9742 - val_loss: 0.0569 - val_accuracy: 0.9876\n",
      "Epoch 72/100\n",
      "124/124 [==============================] - 1s 8ms/step - loss: 0.0797 - accuracy: 0.9763 - val_loss: 0.0546 - val_accuracy: 0.9879\n",
      "Epoch 73/100\n",
      "124/124 [==============================] - 1s 7ms/step - loss: 0.0742 - accuracy: 0.9788 - val_loss: 0.0530 - val_accuracy: 0.9838\n",
      "Epoch 74/100\n",
      "124/124 [==============================] - 1s 6ms/step - loss: 0.0716 - accuracy: 0.9775 - val_loss: 0.0514 - val_accuracy: 0.9879\n",
      "Epoch 75/100\n",
      "124/124 [==============================] - 1s 6ms/step - loss: 0.0753 - accuracy: 0.9768 - val_loss: 0.0511 - val_accuracy: 0.9896\n",
      "Epoch 76/100\n",
      "124/124 [==============================] - 1s 7ms/step - loss: 0.0724 - accuracy: 0.9747 - val_loss: 0.0480 - val_accuracy: 0.9891\n",
      "Epoch 77/100\n",
      "124/124 [==============================] - 1s 7ms/step - loss: 0.0674 - accuracy: 0.9783 - val_loss: 0.0483 - val_accuracy: 0.9881\n",
      "Epoch 78/100\n",
      "124/124 [==============================] - 1s 7ms/step - loss: 0.0745 - accuracy: 0.9752 - val_loss: 0.0476 - val_accuracy: 0.9886\n",
      "Epoch 79/100\n",
      "124/124 [==============================] - 1s 6ms/step - loss: 0.0635 - accuracy: 0.9813 - val_loss: 0.0432 - val_accuracy: 0.9884\n",
      "Epoch 80/100\n",
      "124/124 [==============================] - 1s 7ms/step - loss: 0.0660 - accuracy: 0.9793 - val_loss: 0.0496 - val_accuracy: 0.9861\n",
      "Epoch 81/100\n",
      "124/124 [==============================] - 1s 6ms/step - loss: 0.0665 - accuracy: 0.9816 - val_loss: 0.0459 - val_accuracy: 0.9886\n",
      "Epoch 82/100\n",
      "124/124 [==============================] - 1s 7ms/step - loss: 0.0685 - accuracy: 0.9783 - val_loss: 0.0436 - val_accuracy: 0.9901\n",
      "Epoch 83/100\n",
      "124/124 [==============================] - 1s 6ms/step - loss: 0.0653 - accuracy: 0.9785 - val_loss: 0.0405 - val_accuracy: 0.9894\n",
      "Epoch 84/100\n",
      "124/124 [==============================] - 1s 7ms/step - loss: 0.0596 - accuracy: 0.9828 - val_loss: 0.0373 - val_accuracy: 0.9901\n",
      "Epoch 85/100\n",
      "124/124 [==============================] - 1s 7ms/step - loss: 0.0591 - accuracy: 0.9823 - val_loss: 0.0399 - val_accuracy: 0.9899\n",
      "Epoch 86/100\n",
      "124/124 [==============================] - 1s 6ms/step - loss: 0.0618 - accuracy: 0.9785 - val_loss: 0.0388 - val_accuracy: 0.9896\n",
      "Epoch 87/100\n",
      "124/124 [==============================] - 1s 7ms/step - loss: 0.0603 - accuracy: 0.9798 - val_loss: 0.0391 - val_accuracy: 0.9907\n",
      "Epoch 88/100\n",
      "124/124 [==============================] - 1s 7ms/step - loss: 0.0580 - accuracy: 0.9833 - val_loss: 0.0363 - val_accuracy: 0.9904\n",
      "Epoch 89/100\n",
      "124/124 [==============================] - 1s 7ms/step - loss: 0.0541 - accuracy: 0.9836 - val_loss: 0.0368 - val_accuracy: 0.9904\n",
      "Epoch 90/100\n",
      "124/124 [==============================] - 1s 9ms/step - loss: 0.0594 - accuracy: 0.9813 - val_loss: 0.0368 - val_accuracy: 0.9912\n",
      "Epoch 91/100\n",
      "124/124 [==============================] - 1s 8ms/step - loss: 0.0600 - accuracy: 0.9816 - val_loss: 0.0376 - val_accuracy: 0.9889\n",
      "Epoch 92/100\n",
      "124/124 [==============================] - 1s 7ms/step - loss: 0.0599 - accuracy: 0.9800 - val_loss: 0.0352 - val_accuracy: 0.9901\n",
      "Epoch 93/100\n",
      "124/124 [==============================] - 1s 6ms/step - loss: 0.0544 - accuracy: 0.9833 - val_loss: 0.0324 - val_accuracy: 0.9901\n",
      "Epoch 94/100\n",
      "124/124 [==============================] - 1s 6ms/step - loss: 0.0536 - accuracy: 0.9833 - val_loss: 0.0324 - val_accuracy: 0.9894\n",
      "Epoch 95/100\n",
      "124/124 [==============================] - 1s 7ms/step - loss: 0.0510 - accuracy: 0.9841 - val_loss: 0.0315 - val_accuracy: 0.9904\n",
      "Epoch 96/100\n",
      "124/124 [==============================] - 1s 5ms/step - loss: 0.0502 - accuracy: 0.9864 - val_loss: 0.0301 - val_accuracy: 0.9901\n",
      "Epoch 97/100\n",
      "124/124 [==============================] - 1s 7ms/step - loss: 0.0527 - accuracy: 0.9828 - val_loss: 0.0302 - val_accuracy: 0.9904\n",
      "Epoch 98/100\n",
      "124/124 [==============================] - 1s 7ms/step - loss: 0.0532 - accuracy: 0.9851 - val_loss: 0.0312 - val_accuracy: 0.9901\n",
      "Epoch 99/100\n",
      "124/124 [==============================] - 1s 7ms/step - loss: 0.0508 - accuracy: 0.9848 - val_loss: 0.0355 - val_accuracy: 0.9901\n",
      "Epoch 100/100\n",
      "124/124 [==============================] - 1s 6ms/step - loss: 0.0482 - accuracy: 0.9843 - val_loss: 0.0314 - val_accuracy: 0.9896\n"
     ]
    },
    {
     "data": {
      "text/plain": [
       "<keras.callbacks.History at 0x22af68758b0>"
      ]
     },
     "execution_count": 102,
     "metadata": {},
     "output_type": "execute_result"
    }
   ],
   "source": [
    "model.fit(X_train, y_train, epochs=100, batch_size=32,validation_data=(X_test,y_test))"
   ]
  },
  {
   "cell_type": "code",
   "execution_count": 103,
   "id": "f3d5c618",
   "metadata": {},
   "outputs": [
    {
     "name": "stdout",
     "output_type": "stream",
     "text": [
      "124/124 [==============================] - 0s 2ms/step - loss: 0.0314 - accuracy: 0.9896\n"
     ]
    },
    {
     "data": {
      "text/plain": [
       "[0.0313883051276207, 0.9896412491798401]"
      ]
     },
     "execution_count": 103,
     "metadata": {},
     "output_type": "execute_result"
    }
   ],
   "source": [
    "model.evaluate(X_test,y_test)"
   ]
  },
  {
   "cell_type": "code",
   "execution_count": 104,
   "id": "da189304",
   "metadata": {},
   "outputs": [
    {
     "name": "stdout",
     "output_type": "stream",
     "text": [
      "124/124 [==============================] - 0s 2ms/step\n",
      "              precision    recall  f1-score   support\n",
      "\n",
      "           0       0.99      0.99      0.99      2303\n",
      "           1       0.99      0.99      0.99      1655\n",
      "\n",
      "    accuracy                           0.99      3958\n",
      "   macro avg       0.99      0.99      0.99      3958\n",
      "weighted avg       0.99      0.99      0.99      3958\n",
      "\n"
     ]
    }
   ],
   "source": [
    "print(classification_report(y_test,model.predict(X_test)>0.5))"
   ]
  },
  {
   "cell_type": "code",
   "execution_count": 105,
   "id": "8eee598d",
   "metadata": {},
   "outputs": [],
   "source": [
    "from sklearn.manifold import TSNE"
   ]
  },
  {
   "cell_type": "code",
   "execution_count": 106,
   "id": "bfb7476c",
   "metadata": {},
   "outputs": [
    {
     "data": {
      "text/plain": [
       "(3958, 2)"
      ]
     },
     "execution_count": 106,
     "metadata": {},
     "output_type": "execute_result"
    }
   ],
   "source": [
    "# Create a t-SNE model and transform the data\n",
    "tsne = TSNE(n_components=2, perplexity=15, random_state=42, init='random', learning_rate=200)\n",
    "vis_dims = tsne.fit_transform(X_train)\n",
    "vis_dims.shape"
   ]
  },
  {
   "cell_type": "code",
   "execution_count": null,
   "id": "252686db",
   "metadata": {},
   "outputs": [],
   "source": []
  }
 ],
 "metadata": {
  "kernelspec": {
   "display_name": "Python 3 (ipykernel)",
   "language": "python",
   "name": "python3"
  },
  "language_info": {
   "codemirror_mode": {
    "name": "ipython",
    "version": 3
   },
   "file_extension": ".py",
   "mimetype": "text/x-python",
   "name": "python",
   "nbconvert_exporter": "python",
   "pygments_lexer": "ipython3",
   "version": "3.9.12"
  }
 },
 "nbformat": 4,
 "nbformat_minor": 5
}
